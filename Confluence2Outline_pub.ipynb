{
 "cells": [
  {
   "cell_type": "markdown",
   "id": "8b955a36-56f0-4c3d-84f5-49d266cf7680",
   "metadata": {
    "editable": true,
    "slideshow": {
     "slide_type": ""
    },
    "tags": []
   },
   "source": [
    "# Import & variables"
   ]
  },
  {
   "cell_type": "code",
   "execution_count": 64,
   "id": "a22a2ab1-a97b-4940-bcc7-4be09f5f5150",
   "metadata": {
    "editable": true,
    "slideshow": {
     "slide_type": ""
    },
    "tags": []
   },
   "outputs": [],
   "source": [
    "import json\n",
    "import os\n",
    "import requests\n",
    "import re\n",
    "import time"
   ]
  },
  {
   "cell_type": "code",
   "execution_count": 2,
   "id": "7303266a-0f65-4fa4-8701-e38c03331406",
   "metadata": {
    "editable": true,
    "slideshow": {
     "slide_type": ""
    },
    "tags": []
   },
   "outputs": [],
   "source": [
    "server_url = \"enter your Outline webserver url : https://www.example.com\"\n",
    "api_key = 'enter your Outline API key'"
   ]
  },
  {
   "cell_type": "code",
   "execution_count": 69,
   "id": "13b80e9f-ca4a-44f3-8c29-d2de6088ccbd",
   "metadata": {
    "editable": true,
    "slideshow": {
     "slide_type": ""
    },
    "tags": []
   },
   "outputs": [],
   "source": [
    "path = \"enter your path to attachments folder\"\n",
    "path_mk_docs = \"enter your path to markdown docs folder\""
   ]
  },
  {
   "cell_type": "code",
   "execution_count": 4,
   "id": "277e66b4-c12e-42e0-bd31-6606070a837b",
   "metadata": {
    "editable": true,
    "slideshow": {
     "slide_type": ""
    },
    "tags": []
   },
   "outputs": [],
   "source": [
    "# manage your extensions, and corresponding MIME type, as used by Outline upload API\n",
    "MIME_type_dict = { 'gig':'image/gif', 'png': 'image/png', 'webp' : 'image/webp', 'docx': 'application/vnd.openxmlformats-officedocument.wordprocessingml.document', 'pdf':'application/pdf', 'sh': 'application/x-sh', 'jpeg' : 'image/jpeg', 'jpg' : 'image/jpeg'}"
   ]
  },
  {
   "cell_type": "markdown",
   "id": "9093729c-7e07-416e-a6fd-cb8cfd69d7da",
   "metadata": {
    "editable": true,
    "slideshow": {
     "slide_type": ""
    },
    "tags": []
   },
   "source": [
    "# Browse attachment files (does not support subfolders) and build dict for upload to Outline"
   ]
  },
  {
   "cell_type": "code",
   "execution_count": 72,
   "id": "c5644c7b-baaf-4dd7-ac70-8869a1dca21d",
   "metadata": {
    "editable": true,
    "slideshow": {
     "slide_type": ""
    },
    "tags": []
   },
   "outputs": [],
   "source": [
    "list_files = []"
   ]
  },
  {
   "cell_type": "code",
   "execution_count": 73,
   "id": "807f866b-8d84-4a08-9c19-cb915f53d8d8",
   "metadata": {
    "editable": true,
    "slideshow": {
     "slide_type": ""
    },
    "tags": []
   },
   "outputs": [],
   "source": [
    "os.chdir(path)\n",
    "for root, dirs, files in os.walk(\".\", topdown=False):\n",
    "    for name in files:\n",
    "        with open(name, 'rb') as f:\n",
    "            try:\n",
    "                filestats = os.stat(name)\n",
    "                list_files.append({ 'ori_filename': name, 'ori_size': filestats.st_size, 'MIME_ext': MIME_type_dict[name.split('.')[-1]],'file_data': f.read(),'uploadUrl' : '', 'form':'', 'attachment':'', 'accessUrl':'' })\n",
    "            except KeyError:\n",
    "                # add here exception managements (such as files without extension, or unknown extensions )\n",
    "                if name == 'xxx':\n",
    "                    list_files.append({ 'ori_filename': name, 'ori_size': filestats.st_size, 'MIME_ext': MIME_type_dict['png'],'file_data': f.read(),'uploadUrl' : '', 'form':'', 'attachment':'', 'accessUrl':'' })\n"
   ]
  },
  {
   "cell_type": "code",
   "execution_count": null,
   "id": "80844b14-9bbc-40e3-8f0c-37aa362e9f53",
   "metadata": {},
   "outputs": [],
   "source": [
    "#check file list length against your folder\n",
    "len(list_files)"
   ]
  },
  {
   "cell_type": "markdown",
   "id": "591f0f5d-6674-40c9-b799-ff7b5c11119d",
   "metadata": {},
   "source": [
    "# Get Outline attachment urls, post attachments"
   ]
  },
  {
   "cell_type": "code",
   "execution_count": null,
   "id": "7a0cecf3-b05b-4bec-be2d-936adefb1b83",
   "metadata": {},
   "outputs": [],
   "source": [
    "# obtain attachment creation urls, and then push attachments\n",
    "url = server_url + '/api/attachments.create'\n",
    "\n",
    "for items in list_files:\n",
    "    if items['accessUrl']!= '':\n",
    "        pass\n",
    "    else:\n",
    "        print(items['ori_filename'])\n",
    "        payload = {\n",
    "            \"name\": items['ori_filename'],\n",
    "            \"contentType\": items['MIME_ext'],\n",
    "            \"size\": items['ori_size'],\n",
    "            \"preset\": \"documentAttachment\"\n",
    "        }\n",
    "        headers = {\n",
    "            \"Content-Type\": \"application/json\",\n",
    "            \"Authorization\": \"Bearer \" + api_key\n",
    "        }\n",
    "    \n",
    "        response = requests.post(url, json=payload, headers=headers)\n",
    "        response_data = response.json()\n",
    "        print(response_data)\n",
    "        if response_data['ok'] == False and response_data['status'] == 429:\n",
    "            print(\"wait for one minute, rate limit obtained\")\n",
    "            time.sleep(60)\n",
    "            response = requests.post(url, json=payload, headers=headers)\n",
    "            response_data = response.json()\n",
    "            print(response_data)\n",
    "        items['uploadUrl'] = response_data['data']['uploadUrl']\n",
    "        items['form'] = response_data['data']['form']\n",
    "        items['attachment'] = response_data['data']['attachment']\n",
    "        items['accessUrl'] = response_data['data']['attachment']['url']\n",
    "\n",
    "        url_upload = server_url + items['uploadUrl']\n",
    "        headers_upload = {\"Authorization\": \"Bearer \" + api_key}\n",
    "        files = { 'file' : (items['ori_filename'], items['file_data'], items['MIME_ext'] ) }\n",
    "        response = requests.post(url=url_upload, data = items['form'], files = files, headers=headers_upload)\n",
    "        print(response.json())"
   ]
  },
  {
   "cell_type": "code",
   "execution_count": null,
   "id": "0331eeaa-9093-4da8-8cf6-44b5549afe5e",
   "metadata": {},
   "outputs": [],
   "source": [
    "# Check file names and access URLS : the other columns are not needed anymore\n",
    "for items in list_files:\n",
    "    print(items['ori_filename'], items['accessUrl'])"
   ]
  },
  {
   "cell_type": "markdown",
   "id": "74126bdb-baa7-4dd5-a62a-e06dc43f237d",
   "metadata": {},
   "source": [
    "# Update MD docs (from confluence to Outline)"
   ]
  },
  {
   "cell_type": "code",
   "execution_count": 42,
   "id": "a531d4c3-0d17-437d-88b1-9bb47ad93d63",
   "metadata": {},
   "outputs": [],
   "source": [
    "# Regex and replacement functions to adapt MD docs from Confluence to Outline : deal with different way to handle \n",
    "# INFO, WARNING, NOTES, Bluestar logo, Google urls\n",
    "\n",
    "# Regex pattern for blue star blocks\n",
    "pattern_bluestar = r\"## !\\[\\(blue star\\)\\]\\(.*?\\)\\n\\n(.+?)\\n\\n\"\n",
    "\n",
    "# Replacement function\n",
    "def replace_section_bluestar(match):\n",
    "    section_title = match.group(1)  # Capture the \"Related articles\" (or similar text)\n",
    "    return f\"## {section_title}\\n\\n\"\n",
    "\n",
    "\n",
    "# Regex pattern to match the block\n",
    "pattern_info = r\"> \\[!INFO\\]\\n((?:> .*\\n)+)\"\n",
    "\n",
    "# Replacement function\n",
    "def replace_info_block(match):\n",
    "    info_content = re.sub(r\"^> \", \"\", match.group(1), flags=re.MULTILINE)  # Capture the informational content\n",
    "    return f\":::info\\n{info_content}\\n\\n:::\\n\\n\"\n",
    "\n",
    "# Regex pattern to match the block\n",
    "pattern_warning = r\"> \\[!WARNING\\]\\n((?:> .*\\n)+)\"\n",
    "\n",
    "# Replacement function\n",
    "def replace_warning_block(match):\n",
    "    info_content = re.sub(r\"^> \", \"\", match.group(1), flags=re.MULTILINE) # Capture the informational content\n",
    "    return f\":::warning\\n{info_content}\\n\\n:::\\n\\n\"\n",
    "\n",
    "# Regex pattern to match the block\n",
    "pattern_note = r\"> \\[!NOTE\\]\\n((?:> .*\\n)+)\"\n",
    "\n",
    "# Replacement function\n",
    "def replace_note_block(match):\n",
    "    info_content = re.sub(r\"^> \", \"\", match.group(1), flags=re.MULTILINE) # Capture the informational content\n",
    "    return f\":::tip\\n{info_content}\\n\\n:::\\n\\n\"\n",
    "\n",
    "\n",
    "# Regex pattern for attachments\n",
    "pattern_attachment = r\"\\(\\./attachments/.*?\\)\"\n",
    "\n",
    "def find_url_by_name(filename, list_files):\n",
    "    for item in list_files:\n",
    "        if item['ori_filename'] == filename:\n",
    "            return item['accessUrl']\n",
    "    return filename\n",
    "    \n",
    "# Replacement function\n",
    "def replace_attachment_link(match):\n",
    "    original_link = match.group(0)  # Full match, e.g., (./attachments/filename)\n",
    "    filename = original_link[15:-1].replace(\"%20\", \" \")  # Extract filename (after `./attachments/`, before `)`)\n",
    "    new_base_url = find_url_by_name(filename, list_files)\n",
    "    return f\"({new_base_url})\"\n",
    "\n",
    "\n",
    "\n",
    "# manage google links\n",
    "def add_line_break_before_google_links(markdown_text):\n",
    "    # Define a regex to find Google Docs or Drive links not at the start of a line\n",
    "    pattern = r\"(?<!\\n)(\\s*)(\\[(https://(?:docs|drive)\\.google\\.com[^\\]]*)\\])\"\n",
    "    \n",
    "    # Add a line break before the matched link\n",
    "    updated_text = re.sub(pattern, r\"\\n\\n\\2\", markdown_text)\n",
    "    \n",
    "    return updated_text"
   ]
  },
  {
   "cell_type": "code",
   "execution_count": null,
   "id": "f98eef4e-2350-4a71-9fa6-a018a8f0f1a5",
   "metadata": {},
   "outputs": [],
   "source": [
    "# walk through folder (including sub folders), create modified version of MD files in the same folder\n",
    "os.chdir(path_mk_docs)\n",
    "for root, dirs, files in os.walk(\".\", topdown=False):\n",
    "    for name in files:\n",
    "        # check file is an md file\n",
    "        if os.path.splitext(name)[1] != \".md\":\n",
    "            print(name + \"\\n error, this is not an md file\")\n",
    "            pass\n",
    "        else:\n",
    "            with open(os.path.join(root, name), 'r') as f:\n",
    "                doc = f.read()\n",
    "                # update bluestar\n",
    "                doc = re.sub(pattern_bluestar, replace_section_bluestar, doc)\n",
    "                # update info\n",
    "                doc = re.sub(pattern_info, replace_info_block, doc)\n",
    "                # update warning\n",
    "                doc = re.sub(pattern_warning, replace_warning_block, doc)\n",
    "                # update note\n",
    "                doc = re.sub(pattern_note, replace_note_block, doc)\n",
    "                # update attachments\n",
    "                doc = re.sub(pattern_attachment, replace_attachment_link, doc)\n",
    "                # manage google links\n",
    "                doc = add_line_break_before_google_links(doc)\n",
    "            new_filename = os.path.splitext(name)[0] + '_modified' + os.path.splitext(name)[1]\n",
    "            with open(os.path.join(root, new_filename), 'w') as f:\n",
    "                f.write(doc)"
   ]
  }
 ],
 "metadata": {
  "kernelspec": {
   "display_name": "Python 3 (ipykernel)",
   "language": "python",
   "name": "python3"
  },
  "language_info": {
   "codemirror_mode": {
    "name": "ipython",
    "version": 3
   },
   "file_extension": ".py",
   "mimetype": "text/x-python",
   "name": "python",
   "nbconvert_exporter": "python",
   "pygments_lexer": "ipython3",
   "version": "3.10.12"
  }
 },
 "nbformat": 4,
 "nbformat_minor": 5
}
